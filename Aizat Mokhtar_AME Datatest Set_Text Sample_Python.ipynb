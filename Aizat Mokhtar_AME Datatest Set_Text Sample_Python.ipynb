{
 "cells": [
  {
   "cell_type": "code",
   "execution_count": 94,
   "id": "f6fdd5ad",
   "metadata": {},
   "outputs": [],
   "source": [
    "import re"
   ]
  },
  {
   "cell_type": "code",
   "execution_count": 95,
   "id": "89be703f",
   "metadata": {},
   "outputs": [],
   "source": [
    "text_sample = \"Hello000 Sir!!, I'm looking for Azman, age: 30, from Rantau Panjang & his phone no. :+6012-3456789({**__mobile__**})\""
   ]
  },
  {
   "cell_type": "code",
   "execution_count": 96,
   "id": "a48a2f1f",
   "metadata": {},
   "outputs": [
    {
     "name": "stdout",
     "output_type": "stream",
     "text": [
      "<re.Match object; span=(116, 116), match=''>\n"
     ]
    }
   ],
   "source": [
    "# i. Match end of the character in text\n",
    "end_of_string = re.search(r\"\\Z\", text_sample)\n",
    "print (end_of_string)"
   ]
  },
  {
   "cell_type": "code",
   "execution_count": 97,
   "id": "ef90df83",
   "metadata": {},
   "outputs": [
    {
     "name": "stdout",
     "output_type": "stream",
     "text": [
      "['0', '0', '0', '3', '0', '6', '0', '1', '2', '3', '4', '5', '6', '7', '8', '9']\n"
     ]
    }
   ],
   "source": [
    "# ii. Match all digits pattern\n",
    "all_digits = re.findall(r\"\\d\", text_sample)\n",
    "print (all_digits)"
   ]
  },
  {
   "cell_type": "code",
   "execution_count": 98,
   "id": "2885b4e3",
   "metadata": {},
   "outputs": [
    {
     "name": "stdout",
     "output_type": "stream",
     "text": [
      "['Hello000', 'Sir', 'I', 'm', 'looking', 'for', 'Azman', 'age', '30', 'from', 'Rantau', 'Panjang', 'his', 'phone', 'no', '6012', '3456789', '__mobile__']\n"
     ]
    }
   ],
   "source": [
    "# iii. Match all words pattern\n",
    "all_words = re.findall(r\"\\w+\", text_sample)\n",
    "print (all_words)"
   ]
  },
  {
   "cell_type": "code",
   "execution_count": 99,
   "id": "b28ae5bb",
   "metadata": {},
   "outputs": [
    {
     "name": "stdout",
     "output_type": "stream",
     "text": [
      "['Hello', 'Sir', 'I', 'm', 'looking', 'for', 'Azman', 'age', 'from', 'Rantau', 'Panjang', 'his', 'phone', 'no', 'mobile']\n"
     ]
    }
   ],
   "source": [
    "# iv. Match all alphabetic characters\n",
    "all_alphabets = re.findall(r\"[a-zA-Z]+\", text_sample)\n",
    "print (all_alphabets)"
   ]
  },
  {
   "cell_type": "code",
   "execution_count": 100,
   "id": "fe3c6bce",
   "metadata": {},
   "outputs": [
    {
     "name": "stdout",
     "output_type": "stream",
     "text": [
      "['H', 'e', 'l', 'l', 'o', '0', '0', '0', 'S', 'i', 'r', 'I', 'm', 'l', 'o', 'o', 'k', 'i', 'n', 'g', 'f', 'o', 'r', 'A', 'z', 'm', 'a', 'n', 'a', 'g', 'e', '3', '0', 'f', 'r', 'o', 'm', 'R', 'a', 'n', 't', 'a', 'u', 'P', 'a', 'n', 'j', 'a', 'n', 'g', 'h', 'i', 's', 'p', 'h', 'o', 'n', 'e', 'n', 'o', '6', '0', '1', '2', '3', '4', '5', '6', '7', '8', '9', '_', '_', 'm', 'o', 'b', 'i', 'l', 'e', '_', '_']\n"
     ]
    }
   ],
   "source": [
    "# v. Match all alphanumeric characters\n",
    "all_alphanumerics = re.findall(r\"\\w\", text_sample)\n",
    "print (all_alphanumerics)"
   ]
  },
  {
   "cell_type": "code",
   "execution_count": 101,
   "id": "0e12d324",
   "metadata": {},
   "outputs": [
    {
     "name": "stdout",
     "output_type": "stream",
     "text": [
      "['!', '!', ',', \"'\", ',', ':', ',', '&', '.', ':', '+', '-', '(', '{', '*', '*', '*', '*', '}', ')']\n"
     ]
    }
   ],
   "source": [
    "# vi. Match all punctuation characters\n",
    "all_punctuation = re.findall(r\"[^\\w\\s]\", text_sample)\n",
    "print (all_punctuation)"
   ]
  },
  {
   "cell_type": "code",
   "execution_count": 102,
   "id": "902fd936",
   "metadata": {},
   "outputs": [
    {
     "name": "stdout",
     "output_type": "stream",
     "text": [
      "['H', 'e', 'l', 'l', 'o', '0', '0', '0', 'S', 'i', 'r', '!', '!', ',', 'I', \"'\", 'm', 'l', 'o', 'o', 'k', 'i', 'n', 'g', 'f', 'o', 'r', 'A', 'z', 'm', 'a', 'n', ',', 'a', 'g', 'e', ':', '3', '0', ',', 'f', 'r', 'o', 'm', 'R', 'a', 'n', 't', 'a', 'u', 'P', 'a', 'n', 'j', 'a', 'n', 'g', '&', 'h', 'i', 's', 'p', 'h', 'o', 'n', 'e', 'n', 'o', '.', ':', '+', '6', '0', '1', '2', '-', '3', '4', '5', '6', '7', '8', '9', '(', '{', '*', '*', '_', '_', 'm', 'o', 'b', 'i', 'l', 'e', '_', '_', '*', '*', '}', ')']\n"
     ]
    }
   ],
   "source": [
    "# vii. Negation match, match all except space\n",
    "all_except_space = re.findall(r\"[^\\s]\", text_sample)\n",
    "print (all_except_space)"
   ]
  },
  {
   "cell_type": "code",
   "execution_count": 103,
   "id": "9e41976d",
   "metadata": {},
   "outputs": [
    {
     "name": "stdout",
     "output_type": "stream",
     "text": [
      "['H', 'e', 'l', 'l', 'o', ' ', 'S', 'i', 'r', '!', '!', ',', ' ', 'I', \"'\", 'm', ' ', 'l', 'o', 'o', 'k', 'i', 'n', 'g', ' ', 'f', 'o', 'r', ' ', 'A', 'z', 'm', 'a', 'n', ',', ' ', 'a', 'g', 'e', ':', ' ', ',', ' ', 'f', 'r', 'o', 'm', ' ', 'R', 'a', 'n', 't', 'a', 'u', ' ', 'P', 'a', 'n', 'j', 'a', 'n', 'g', ' ', '&', ' ', 'h', 'i', 's', ' ', 'p', 'h', 'o', 'n', 'e', ' ', 'n', 'o', '.', ' ', ':', '+', '-', '(', '{', '*', '*', '_', '_', 'm', 'o', 'b', 'i', 'l', 'e', '_', '_', '*', '*', '}', ')']\n"
     ]
    }
   ],
   "source": [
    "# viii. Negation match, match all except digits\n",
    "all_except_digits = re.findall(r\"[^\\d]\", text_sample)\n",
    "print (all_except_digits)"
   ]
  },
  {
   "cell_type": "code",
   "execution_count": 104,
   "id": "1a0ffe60",
   "metadata": {},
   "outputs": [
    {
     "name": "stdout",
     "output_type": "stream",
     "text": [
      "['30']\n"
     ]
    }
   ],
   "source": [
    "# ix. Match customized pattern. i.e.: to match age.\n",
    "age = re.findall(r\"\\b\\d{2}\\b\", text_sample)\n",
    "print (age)"
   ]
  },
  {
   "cell_type": "code",
   "execution_count": 127,
   "id": "8fb0ab3c",
   "metadata": {},
   "outputs": [
    {
     "name": "stdout",
     "output_type": "stream",
     "text": [
      "+6012-3456789\n"
     ]
    }
   ],
   "source": [
    "# x. Match customized pattern, i.e.: to match phone number\n",
    "phone_pattern = re.compile(r'\\+\\d{4}-\\d{7}')\n",
    "\n",
    "def extract_phone_number(text):\n",
    "    match = re.search(phone_pattern, text)\n",
    "    if match:\n",
    "        return match.group()\n",
    "    return None\n",
    "\n",
    "phone_number = extract_phone_number(text_sample)\n",
    "print (phone_number)"
   ]
  },
  {
   "cell_type": "code",
   "execution_count": null,
   "id": "c85c36fd",
   "metadata": {},
   "outputs": [],
   "source": []
  },
  {
   "cell_type": "code",
   "execution_count": null,
   "id": "1330ceff",
   "metadata": {},
   "outputs": [],
   "source": []
  }
 ],
 "metadata": {
  "kernelspec": {
   "display_name": "Python 3 (ipykernel)",
   "language": "python",
   "name": "python3"
  },
  "language_info": {
   "codemirror_mode": {
    "name": "ipython",
    "version": 3
   },
   "file_extension": ".py",
   "mimetype": "text/x-python",
   "name": "python",
   "nbconvert_exporter": "python",
   "pygments_lexer": "ipython3",
   "version": "3.9.13"
  }
 },
 "nbformat": 4,
 "nbformat_minor": 5
}
