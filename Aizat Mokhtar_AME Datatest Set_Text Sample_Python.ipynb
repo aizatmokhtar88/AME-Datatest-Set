{
 "cells": [
  {
   "cell_type": "code",
   "execution_count": 28,
   "id": "83340426",
   "metadata": {},
   "outputs": [],
   "source": [
    "import re"
   ]
  },
  {
   "cell_type": "code",
   "execution_count": 29,
   "id": "903387b1",
   "metadata": {},
   "outputs": [],
   "source": [
    "text_sample = \"Hello000 Sir!!, I'm looking for Azman, age: 30, from Rantau Panjang & his phone no. :+6012-3456789({**__mobile__**})\""
   ]
  },
  {
   "cell_type": "code",
   "execution_count": 74,
   "id": "897fafec",
   "metadata": {},
   "outputs": [],
   "source": [
    "# i. Match end of the character in text\n",
    "end_of_string = re.search(r\"\\Z\", text_sample)\n",
    "\n",
    "# ii. Match all digits pattern\n",
    "all_digits = re.findall(r\"\\d\", text_sample)\n",
    "\n",
    "# iii. Match all words pattern\n",
    "all_words = re.findall(r\"\\w+\", text_sample)\n",
    "\n",
    "# iv. Match all alphabetic characters\n",
    "all_alphabets = re.findall(r\"[a-zA-Z]+\", text_sample)\n",
    "\n",
    "# v. Match all alphanumeric characters\n",
    "all_alphanumerics = re.findall(r\"\\w\", text_sample)\n",
    "\n",
    "# vi. Match all punctuation characters\n",
    "all_punctuation = re.findall(r\"[^\\w\\s]\", text_sample)\n",
    "\n",
    "# vii. Negation match, match all except space\n",
    "all_except_space = re.findall(r\"[^\\s]\", text_sample)\n",
    "\n",
    "# viii. Negation match, match all except digits\n",
    "all_except_digits = re.findall(r\"[^\\d]\", text_sample)\n",
    "\n",
    "# ix. Match customized pattern. i.e.: to match age.\n",
    "age = re.findall(r\"\\b\\d{2}\\b\", text_sample)\n",
    "\n",
    "# x. Match customized pattern, i.e.: to match phone number\n",
    "phone_pattern = re.compile(r'^\\+\\d{4}-\\d{7}$')\n",
    "\n"
   ]
  },
  {
   "cell_type": "code",
   "execution_count": null,
   "id": "ba7cbb86",
   "metadata": {},
   "outputs": [],
   "source": []
  },
  {
   "cell_type": "code",
   "execution_count": 75,
   "id": "00a76720",
   "metadata": {},
   "outputs": [
    {
     "data": {
      "text/plain": [
       "'+6012-3456789'"
      ]
     },
     "execution_count": 75,
     "metadata": {},
     "output_type": "execute_result"
    }
   ],
   "source": [
    "phone_number"
   ]
  },
  {
   "cell_type": "code",
   "execution_count": null,
   "id": "d9999d4b",
   "metadata": {},
   "outputs": [],
   "source": []
  },
  {
   "cell_type": "code",
   "execution_count": null,
   "id": "0e5d8aa0",
   "metadata": {},
   "outputs": [],
   "source": []
  },
  {
   "cell_type": "code",
   "execution_count": null,
   "id": "4003bbc2",
   "metadata": {},
   "outputs": [],
   "source": []
  },
  {
   "cell_type": "code",
   "execution_count": null,
   "id": "18009e19",
   "metadata": {},
   "outputs": [],
   "source": []
  }
 ],
 "metadata": {
  "kernelspec": {
   "display_name": "Python 3 (ipykernel)",
   "language": "python",
   "name": "python3"
  },
  "language_info": {
   "codemirror_mode": {
    "name": "ipython",
    "version": 3
   },
   "file_extension": ".py",
   "mimetype": "text/x-python",
   "name": "python",
   "nbconvert_exporter": "python",
   "pygments_lexer": "ipython3",
   "version": "3.9.13"
  }
 },
 "nbformat": 4,
 "nbformat_minor": 5
}
