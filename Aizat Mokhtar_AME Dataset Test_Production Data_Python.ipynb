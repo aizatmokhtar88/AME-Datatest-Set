{
 "cells": [
  {
   "cell_type": "code",
   "execution_count": 20,
   "id": "eb638c13",
   "metadata": {},
   "outputs": [],
   "source": [
    "import numpy as np\n",
    "import pandas as pd"
   ]
  },
  {
   "cell_type": "code",
   "execution_count": 44,
   "id": "657762a9",
   "metadata": {},
   "outputs": [],
   "source": [
    "df = pd.read_csv('dbo.production_data_volve.csv')"
   ]
  },
  {
   "cell_type": "code",
   "execution_count": 59,
   "id": "52c9d9ce",
   "metadata": {},
   "outputs": [
    {
     "name": "stdout",
     "output_type": "stream",
     "text": [
      "               recordCount  minDownholeTemp  maxAnnulusPress  avgDpTubing  \\\n",
      "wellType                                                                    \n",
      "OP production         9143              0.0        30.019828   154.045010   \n",
      "WI production           18              0.0        23.879317    81.203375   \n",
      "WI injection          6473              NaN              NaN          NaN   \n",
      "\n",
      "               totalOilVolume  totalGasVolume  totalWaterVolume  \n",
      "wellType                                                         \n",
      "OP production     10033830.73    1.474862e+09       15317679.30  \n",
      "WI production         3249.88    5.079981e+05            899.05  \n",
      "WI injection             0.00    0.000000e+00              0.00  \n"
     ]
    }
   ],
   "source": [
    "# Create a new column that concatenates WELL_TYPE and FLOW_KIND\n",
    "df['wellType'] = df['WELL_TYPE'] + ' ' + df['FLOW_KIND']\n",
    "\n",
    "# Group the data by the wellType column and calculate the summary statistics\n",
    "grouped = df.groupby('wellType').agg({\n",
    "    'WELL_BORE_CODE': 'count',\n",
    "    'AVG_DOWNHOLE_TEMPERATURE': 'min',\n",
    "    'AVG_ANNULUS_PRESS': 'max',\n",
    "    'AVG_DP_TUBING': 'mean',\n",
    "    'BORE_OIL_VOL': 'sum',\n",
    "    'BORE_GAS_VOL': 'sum',\n",
    "    'BORE_WAT_VOL': 'sum'})\n",
    "\n",
    "# Rename the columns to match the SQL query\n",
    "grouped = grouped.rename(columns={\n",
    "    'WELL_BORE_CODE': 'recordCount',\n",
    "    'AVG_DOWNHOLE_TEMPERATURE': 'minDownholeTemp',\n",
    "    'AVG_ANNULUS_PRESS': 'maxAnnulusPress',\n",
    "    'AVG_DP_TUBING': 'avgDpTubing',\n",
    "    'BORE_OIL_VOL': 'totalOilVolume',\n",
    "    'BORE_GAS_VOL': 'totalGasVolume',\n",
    "    'BORE_WAT_VOL': 'totalWaterVolume'})\n",
    "\n",
    "# Sort the data by totalOilVolume, totalGasVolume, and totalWaterVolume\n",
    "grouped = grouped.sort_values(by=['totalOilVolume', 'totalGasVolume', 'totalWaterVolume'], ascending=False)\n",
    "\n",
    "print (grouped)"
   ]
  },
  {
   "cell_type": "code",
   "execution_count": 60,
   "id": "8054778b",
   "metadata": {},
   "outputs": [
    {
     "name": "stdout",
     "output_type": "stream",
     "text": [
      "                   DATEPRD  WELL_BORE_CODE  NPD_WELL_BORE_CODE  \\\n",
      "0      2014-04-07 00:00:00   NO 15/9-F-1 C                7405   \n",
      "1      2014-04-08 00:00:00   NO 15/9-F-1 C                7405   \n",
      "2      2014-04-09 00:00:00   NO 15/9-F-1 C                7405   \n",
      "3      2014-04-10 00:00:00   NO 15/9-F-1 C                7405   \n",
      "4      2014-04-11 00:00:00   NO 15/9-F-1 C                7405   \n",
      "...                    ...             ...                 ...   \n",
      "15629  2016-09-14 00:00:00  NO 15/9-F-5 AH                5769   \n",
      "15630  2016-09-15 00:00:00  NO 15/9-F-5 AH                5769   \n",
      "15631  2016-09-16 00:00:00  NO 15/9-F-5 AH                5769   \n",
      "15632  2016-09-17 00:00:00  NO 15/9-F-5 AH                5769   \n",
      "15633  2016-09-18 00:00:00  NO 15/9-F-5 AH                5769   \n",
      "\n",
      "      NPD_WELL_BORE_NAME  NPD_FIELD_CODE NPD_FIELD_NAME  NPD_FACILITY_CODE  \\\n",
      "0             15/9-F-1 C         3420717          VOLVE             369304   \n",
      "1             15/9-F-1 C         3420717          VOLVE             369304   \n",
      "2             15/9-F-1 C         3420717          VOLVE             369304   \n",
      "3             15/9-F-1 C         3420717          VOLVE             369304   \n",
      "4             15/9-F-1 C         3420717          VOLVE             369304   \n",
      "...                  ...             ...            ...                ...   \n",
      "15629           15/9-F-5         3420717          VOLVE             369304   \n",
      "15630           15/9-F-5         3420717          VOLVE             369304   \n",
      "15631           15/9-F-5         3420717          VOLVE             369304   \n",
      "15632           15/9-F-5         3420717          VOLVE             369304   \n",
      "15633           15/9-F-5         3420717          VOLVE             369304   \n",
      "\n",
      "      NPD_FACILITY_NAME  ON_STREAM_HRS  AVG_DOWNHOLE_PRESSURE  ...  AVG_WHP_P  \\\n",
      "0        MÆRSK INSPIRER            0.0                0.00000  ...    0.00000   \n",
      "1        MÆRSK INSPIRER            0.0                    NaN  ...    0.00000   \n",
      "2        MÆRSK INSPIRER            0.0                    NaN  ...    0.00000   \n",
      "3        MÆRSK INSPIRER            0.0                    NaN  ...    0.00000   \n",
      "4        MÆRSK INSPIRER            0.0              310.37614  ...   33.09788   \n",
      "...                 ...            ...                    ...  ...        ...   \n",
      "15629    MÆRSK INSPIRER            0.0                    NaN  ...    0.07776   \n",
      "15630    MÆRSK INSPIRER            0.0                    NaN  ...    0.08545   \n",
      "15631    MÆRSK INSPIRER            0.0                    NaN  ...    0.08544   \n",
      "15632    MÆRSK INSPIRER            0.0                    NaN  ...    0.07497   \n",
      "15633    MÆRSK INSPIRER            0.0                    NaN  ...        NaN   \n",
      "\n",
      "       AVG_WHT_P  DP_CHOKE_SIZE  BORE_OIL_VOL BORE_GAS_VOL  BORE_WAT_VOL  \\\n",
      "0        0.00000        0.00000           0.0          0.0           0.0   \n",
      "1        0.00000        0.00000           0.0          0.0           0.0   \n",
      "2        0.00000        0.00000           0.0          0.0           0.0   \n",
      "3        0.00000        0.00000           0.0          0.0           0.0   \n",
      "4       10.47992       33.07195           0.0          0.0           0.0   \n",
      "...          ...            ...           ...          ...           ...   \n",
      "15629    0.22879        0.01862           0.0          0.0           0.0   \n",
      "15630    0.22914        0.00631           0.0          0.0           0.0   \n",
      "15631    0.22896        0.01181           0.0          0.0           0.0   \n",
      "15632    0.22846        0.02576           0.0          0.0           0.0   \n",
      "15633        NaN        0.00000           NaN          NaN           NaN   \n",
      "\n",
      "       BORE_WI_VOL   FLOW_KIND  WELL_TYPE       wellType  \n",
      "0              NaN  production         WI  WI production  \n",
      "1              NaN  production         OP  OP production  \n",
      "2              NaN  production         OP  OP production  \n",
      "3              NaN  production         OP  OP production  \n",
      "4              NaN  production         OP  OP production  \n",
      "...            ...         ...        ...            ...  \n",
      "15629          NaN  production         OP  OP production  \n",
      "15630          NaN  production         OP  OP production  \n",
      "15631          NaN  production         OP  OP production  \n",
      "15632          NaN  production         OP  OP production  \n",
      "15633        False   injection         WI   WI injection  \n",
      "\n",
      "[15634 rows x 25 columns]\n"
     ]
    }
   ],
   "source": [
    "print (df)"
   ]
  },
  {
   "cell_type": "code",
   "execution_count": 55,
   "id": "b91d18c8",
   "metadata": {},
   "outputs": [],
   "source": []
  },
  {
   "cell_type": "code",
   "execution_count": 56,
   "id": "cbb3d123",
   "metadata": {},
   "outputs": [],
   "source": []
  },
  {
   "cell_type": "code",
   "execution_count": null,
   "id": "25924060",
   "metadata": {},
   "outputs": [],
   "source": []
  },
  {
   "cell_type": "code",
   "execution_count": null,
   "id": "599d796f",
   "metadata": {},
   "outputs": [],
   "source": []
  }
 ],
 "metadata": {
  "kernelspec": {
   "display_name": "Python 3 (ipykernel)",
   "language": "python",
   "name": "python3"
  },
  "language_info": {
   "codemirror_mode": {
    "name": "ipython",
    "version": 3
   },
   "file_extension": ".py",
   "mimetype": "text/x-python",
   "name": "python",
   "nbconvert_exporter": "python",
   "pygments_lexer": "ipython3",
   "version": "3.9.13"
  }
 },
 "nbformat": 4,
 "nbformat_minor": 5
}
